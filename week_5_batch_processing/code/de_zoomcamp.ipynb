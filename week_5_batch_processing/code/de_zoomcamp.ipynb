{
 "cells": [
  {
   "cell_type": "code",
   "execution_count": 65,
   "id": "43910ba9",
   "metadata": {},
   "outputs": [],
   "source": [
    "import pyspark\n",
    "from pyspark.sql import SparkSession\n",
    "from pyspark.sql import types\n",
    "import pyspark.sql.functions as F"
   ]
  },
  {
   "cell_type": "code",
   "execution_count": 66,
   "id": "e1cf760a",
   "metadata": {},
   "outputs": [
    {
     "data": {
      "text/plain": [
       "'3.3.1'"
      ]
     },
     "execution_count": 66,
     "metadata": {},
     "output_type": "execute_result"
    }
   ],
   "source": [
    "spark.version"
   ]
  },
  {
   "cell_type": "code",
   "execution_count": null,
   "id": "d169fec7",
   "metadata": {},
   "outputs": [],
   "source": [
    "spark = SparkSession.builder \\\n",
    "    .master(\"local[*]\") \\\n",
    "    .appName('test') \\\n",
    "    .getOrCreate()"
   ]
  },
  {
   "cell_type": "code",
   "execution_count": 31,
   "id": "283d8530",
   "metadata": {},
   "outputs": [],
   "source": [
    "schema = types.StructType([\n",
    "    types.StructField('dispatching_base_num', types.StringType(), True),\n",
    "    types.StructField('pickup_datetime', types.TimestampType(), True),\n",
    "    types.StructField('dropoff_datetime', types.TimestampType(), True),\n",
    "    types.StructField('PULocationID', types.IntegerType(), True),\n",
    "    types.StructField('DOLocationID', types.IntegerType(), True),\n",
    "    types.StructField('SR_Flag', types.StringType(), True),\n",
    "    types.StructField('hvfhs_license_num', types.StringType(), True)\n",
    "])"
   ]
  },
  {
   "cell_type": "code",
   "execution_count": null,
   "id": "75399e88",
   "metadata": {
    "collapsed": true
   },
   "outputs": [],
   "source": [
    "!pwd"
   ]
  },
  {
   "cell_type": "code",
   "execution_count": 29,
   "id": "502d9657",
   "metadata": {},
   "outputs": [],
   "source": [
    "df = spark.read \\\n",
    "    .option(\"header\", \"true\") \\\n",
    "    .csv(\"fhvhv_tripdata_2021-06.csv\")"
   ]
  },
  {
   "cell_type": "code",
   "execution_count": 33,
   "id": "3824c239",
   "metadata": {},
   "outputs": [
    {
     "name": "stdout",
     "output_type": "stream",
     "text": [
      "+--------------------+-------------------+-------------------+------------+------------+-------+-----------------+\n",
      "|dispatching_base_num|    pickup_datetime|   dropoff_datetime|PULocationID|DOLocationID|SR_Flag|hvfhs_license_num|\n",
      "+--------------------+-------------------+-------------------+------------+------------+-------+-----------------+\n",
      "|              B02764|2021-06-01 00:02:41|2021-06-01 00:07:46|         174|          18|      N|           B02764|\n",
      "|              B02764|2021-06-01 00:16:16|2021-06-01 00:21:14|          32|         254|      N|           B02764|\n",
      "|              B02764|2021-06-01 00:27:01|2021-06-01 00:42:11|         240|         127|      N|           B02764|\n",
      "|              B02764|2021-06-01 00:46:08|2021-06-01 00:53:45|         127|         235|      N|           B02764|\n",
      "|              B02510|2021-06-01 00:45:42|2021-06-01 01:03:33|         144|         146|      N|             null|\n",
      "|              B02510|2021-06-01 00:18:15|2021-06-01 00:25:47|          49|          17|      N|             null|\n",
      "|              B02510|2021-06-01 00:33:06|2021-06-01 00:42:46|          49|         225|      N|             null|\n",
      "|              B02510|2021-06-01 00:46:27|2021-06-01 00:56:50|         225|         177|      N|             null|\n",
      "|              B02764|2021-06-01 00:48:06|2021-06-01 01:04:10|         209|          45|      N|           B02764|\n",
      "|              B02875|2021-06-01 00:18:54|2021-06-01 00:26:14|          80|         256|      N|           B02875|\n",
      "|              B02875|2021-06-01 00:31:02|2021-06-01 00:36:39|         217|          17|      N|           B02875|\n",
      "|              B02875|2021-06-01 00:41:53|2021-06-01 01:07:32|          17|         265|      N|           B02875|\n",
      "|              B02875|2021-06-01 00:29:52|2021-06-01 00:54:41|         210|          76|      N|           B02875|\n",
      "|              B02510|2021-06-01 00:15:57|2021-06-01 00:39:36|         226|         213|      N|             null|\n",
      "|              B02510|2021-06-01 00:11:59|2021-06-01 00:23:32|         191|           9|      N|             null|\n",
      "|              B02510|2021-06-01 00:30:35|2021-06-01 00:45:35|          16|         250|      N|             null|\n",
      "|              B02510|2021-06-01 00:49:01|2021-06-01 01:03:50|         182|         259|      N|             null|\n",
      "|              B02510|2021-06-01 00:07:36|2021-06-01 00:21:13|         188|          72|      N|             null|\n",
      "|              B02510|2021-06-01 00:25:48|2021-06-01 00:40:43|          39|          72|      N|             null|\n",
      "|              B02510|2021-06-01 00:46:11|2021-06-01 00:53:39|          72|          35|      N|             null|\n",
      "+--------------------+-------------------+-------------------+------------+------------+-------+-----------------+\n",
      "only showing top 20 rows\n",
      "\n"
     ]
    }
   ],
   "source": [
    "df.show()"
   ]
  },
  {
   "cell_type": "code",
   "execution_count": 34,
   "id": "81403113",
   "metadata": {},
   "outputs": [],
   "source": [
    "# Question 2: Repartition the June 2021 HVFHV Data into 12 partitions and save it to Parquet. \n",
    "df = df.repartition(12)\n"
   ]
  },
  {
   "cell_type": "code",
   "execution_count": 36,
   "id": "9e8c519f",
   "metadata": {},
   "outputs": [],
   "source": [
    "df.write.parquet('fhv_parq/', mode =\"overwrite\")"
   ]
  },
  {
   "cell_type": "code",
   "execution_count": null,
   "id": "34bbc9db",
   "metadata": {},
   "outputs": [],
   "source": [
    "# What is the average size of the Parquet Files?\n",
    "# 24MB"
   ]
  },
  {
   "cell_type": "code",
   "execution_count": 38,
   "id": "8ee88968",
   "metadata": {},
   "outputs": [
    {
     "data": {
      "text/plain": [
       "452470"
      ]
     },
     "execution_count": 38,
     "metadata": {},
     "output_type": "execute_result"
    }
   ],
   "source": [
    "# Question 3: How many taxi trips were started on June 15th?\n",
    "df.filter(F.to_date(F.col(\"pickup_datetime\"))=='2021-06-15').count()"
   ]
  },
  {
   "cell_type": "code",
   "execution_count": 47,
   "id": "7a07ea29",
   "metadata": {},
   "outputs": [
    {
     "name": "stdout",
     "output_type": "stream",
     "text": [
      "+--------------------+-------------------+-------------------+------------+------------+-------+-----------------+------------------+\n",
      "|dispatching_base_num|pickup_datetime    |dropoff_datetime   |PULocationID|DOLocationID|SR_Flag|hvfhs_license_num|trip_time_hour    |\n",
      "+--------------------+-------------------+-------------------+------------+------------+-------+-----------------+------------------+\n",
      "|B02872              |2021-06-25 13:55:41|2021-06-28 08:48:25|98          |265         |N      |B02872           |66.8788888888889  |\n",
      "|B02765              |2021-06-22 12:09:45|2021-06-23 13:42:44|188         |198         |N      |B02765           |25.549722222222222|\n",
      "|B02879              |2021-06-27 10:32:29|2021-06-28 06:31:20|78          |169         |N      |B02879           |19.980833333333333|\n",
      "|B02800              |2021-06-26 22:37:11|2021-06-27 16:49:01|263         |36          |N      |null             |18.197222222222223|\n",
      "|B02682              |2021-06-23 20:40:43|2021-06-24 13:08:44|3           |247         |N      |B02682           |16.466944444444444|\n",
      "+--------------------+-------------------+-------------------+------------+------------+-------+-----------------+------------------+\n",
      "only showing top 5 rows\n",
      "\n"
     ]
    }
   ],
   "source": [
    "# Question 4: How long is the longest trip in the dataset? \n",
    "df.withColumn(\"trip_time_hour\", \\\n",
    "              (F.col(\"dropoff_datetime\").cast(types.LongType()) - F.col(\"pickup_datetime\").cast(types.LongType()))/3600) \\\n",
    ".orderBy(F.desc(\"trip_time_hour\")) \\\n",
    ".show(5,False)"
   ]
  },
  {
   "cell_type": "code",
   "execution_count": null,
   "id": "9aa46fb4",
   "metadata": {},
   "outputs": [],
   "source": [
    "+--------------------+-------------------+-------------------+------------+------------+-------+-----------------+------------------+\n",
    "|dispatching_base_num|pickup_datetime    |dropoff_datetime   |PULocationID|DOLocationID|SR_Flag|hvfhs_license_num|trip_time_hour    |\n",
    "+--------------------+-------------------+-------------------+------------+------------+-------+-----------------+------------------+\n",
    "|B02872              |2021-06-25 13:55:41|2021-06-28 08:48:25|98          |265         |N      |B02872           |66.8788888888889  |\n",
    "|B02765              |2021-06-22 12:09:45|2021-06-23 13:42:44|188         |198         |N      |B02765           |25.549722222222222|\n",
    "|B02879              |2021-06-27 10:32:29|2021-06-28 06:31:20|78          |169         |N      |B02879           |19.980833333333333|\n",
    "|B02800              |2021-06-26 22:37:11|2021-06-27 16:49:01|263         |36          |N      |null             |18.197222222222223|\n",
    "|B02682              |2021-06-23 20:40:43|2021-06-24 13:08:44|3           |247         |N      |B02682           |16.466944444444444|\n",
    "+--------------------+-------------------+-------------------+------------+------------+-------+-----------------+------------------+"
   ]
  },
  {
   "cell_type": "code",
   "execution_count": 49,
   "id": "6af7aa0e",
   "metadata": {},
   "outputs": [],
   "source": [
    "# Question 6: What is the name of the most frequent pickup location zone?\n",
    "df_zones = spark.read \\\n",
    "    .option(\"header\", \"true\") \\\n",
    "    .csv(\"taxi_zone_lookup.csv\")"
   ]
  },
  {
   "cell_type": "code",
   "execution_count": 50,
   "id": "7e4e8275",
   "metadata": {
    "collapsed": true
   },
   "outputs": [
    {
     "name": "stderr",
     "output_type": "stream",
     "text": [
      "/mnt/nfs-spark/spark_3.3.1_env/python/pyspark/sql/dataframe.py:229: FutureWarning: Deprecated in 2.0, use createOrReplaceTempView instead.\n",
      "  warnings.warn(\"Deprecated in 2.0, use createOrReplaceTempView instead.\", FutureWarning)\n"
     ]
    }
   ],
   "source": [
    "# df_zones.registerTempTable('zones')\n"
   ]
  },
  {
   "cell_type": "code",
   "execution_count": 58,
   "id": "74872f16",
   "metadata": {},
   "outputs": [],
   "source": [
    "df = df.join(F.broadcast(df_zones), df.PULocationID == df_zones.LocationID, \"left\")"
   ]
  },
  {
   "cell_type": "code",
   "execution_count": null,
   "id": "609a5656",
   "metadata": {},
   "outputs": [],
   "source": [
    "+--------------------+-------------------+-------------------+------------+------------+-------+-----------------+----------+---------+--------------------+------------+\n",
    "|dispatching_base_num|    pickup_datetime|   dropoff_datetime|PULocationID|DOLocationID|SR_Flag|hvfhs_license_num|LocationID|  Borough|                Zone|service_zone|\n",
    "+--------------------+-------------------+-------------------+------------+------------+-------+-----------------+----------+---------+--------------------+------------+\n",
    "|              B02871|2021-06-20 13:22:11|2021-06-20 15:19:40|         132|         265|      N|           B02871|       132|   Queens|         JFK Airport|    Airports|\n",
    "|              B02872|2021-06-19 20:18:20|2021-06-19 20:50:56|          26|          76|      N|           B02872|        26| Brooklyn|        Borough Park|   Boro Zone|\n",
    "|              B02765|2021-06-19 22:48:22|2021-06-19 23:13:12|         132|         155|      N|           B02765|       132|   Queens|         JFK Airport|    Airports|\n",
    "|              B02876|2021-06-20 09:44:13|2021-06-20 09:58:18|         145|           7|      N|           B02876|       145|   Queens|Long Island City/...|   Boro Zone|\n",
    "|              B02510|2021-06-19 19:23:07|2021-06-19 19:34:46|          80|         198|      N|             null|        80| Brooklyn|   East Williamsburg|   Boro Zone|\n",
    "|              B02877|2021-06-19 21:13:53|2021-06-19 21:21:32|          61|          72|      N|           B02877|        61| Brooklyn| Crown Heights North|   Boro Zone|\n",
    "|              B02510|2021-06-20 06:33:01|2021-06-20 06:52:20|         230|         138|      N|             null|       230|Manhattan|Times Sq/Theatre ...| Yellow Zone|\n",
    "|              B02884|2021-06-20 02:27:43|2021-06-20 02:36:12|         165|          22|      N|           B02884|       165| Brooklyn|             Midwood|   Boro Zone|\n",
    "|              B02510|2021-06-19 23:04:58|2021-06-19 23:28:30|          68|         232|      N|             null|        68|Manhattan|        East Chelsea| Yellow Zone|\n",
    "|              B02872|2021-06-20 10:04:23|2021-06-20 10:16:06|         186|          13|      N|           B02872|       186|Manhattan|Penn Station/Madi...| Yellow Zone|\n",
    "|              B02510|2021-06-20 08:12:15|2021-06-20 08:20:41|         197|         134|      N|             null|       197|   Queens|       Richmond Hill|   Boro Zone|\n",
    "|              B02872|2021-06-20 00:35:43|2021-06-20 00:56:47|         246|         265|      N|           B02872|       246|Manhattan|West Chelsea/Huds...| Yellow Zone|\n",
    "|              B02883|2021-06-20 12:54:13|2021-06-20 13:02:54|         150|         108|      N|           B02883|       150| Brooklyn|     Manhattan Beach|   Boro Zone|\n",
    "|              B02510|2021-06-19 19:10:20|2021-06-19 19:27:58|          68|          79|      N|             null|        68|Manhattan|        East Chelsea| Yellow Zone|\n",
    "|              B02878|2021-06-19 20:22:39|2021-06-19 20:52:02|          41|         230|      N|           B02878|        41|Manhattan|      Central Harlem|   Boro Zone|\n",
    "|              B02864|2021-06-20 03:54:15|2021-06-20 04:18:12|         137|         265|      N|           B02864|       137|Manhattan|            Kips Bay| Yellow Zone|\n",
    "|              B02878|2021-06-19 19:20:00|2021-06-19 19:27:33|         100|          48|      N|           B02878|       100|Manhattan|    Garment District| Yellow Zone|\n",
    "|              B02510|2021-06-20 00:05:07|2021-06-20 00:16:03|         138|         260|      N|             null|       138|   Queens|   LaGuardia Airport|    Airports|\n",
    "|              B02510|2021-06-20 00:58:40|2021-06-20 01:14:00|         124|          91|      N|             null|       124|   Queens|        Howard Beach|   Boro Zone|\n",
    "|              B02872|2021-06-19 22:07:42|2021-06-19 22:32:54|         237|         148|      N|           B02872|       237|Manhattan|Upper East Side S...| Yellow Zone|\n",
    "+--------------------+-------------------+-------------------+------------+------------+-------+-----------------+----------+---------+--------------------+------------+"
   ]
  },
  {
   "cell_type": "code",
   "execution_count": 63,
   "id": "746dc822",
   "metadata": {},
   "outputs": [
    {
     "name": "stdout",
     "output_type": "stream",
     "text": [
      "+-------------------+------+\n",
      "|               Zone| count|\n",
      "+-------------------+------+\n",
      "|Crown Heights North|231279|\n",
      "+-------------------+------+\n",
      "\n"
     ]
    }
   ],
   "source": [
    "df.groupBy(\"Zone\").count().orderBy(F.desc(\"count\")).limit(1).show()"
   ]
  },
  {
   "cell_type": "code",
   "execution_count": null,
   "id": "72d642cf",
   "metadata": {},
   "outputs": [],
   "source": [
    "+-------------------+------+\n",
    "|               Zone| count|\n",
    "+-------------------+------+\n",
    "|Crown Heights North|231279|\n",
    "+-------------------+------+"
   ]
  },
  {
   "cell_type": "code",
   "execution_count": null,
   "id": "52eb172b",
   "metadata": {},
   "outputs": [],
   "source": []
  }
 ],
 "metadata": {
  "kernelspec": {
   "display_name": "default",
   "language": "python",
   "name": "default"
  },
  "language_info": {
   "codemirror_mode": {
    "name": "ipython",
    "version": 3
   },
   "file_extension": ".py",
   "mimetype": "text/x-python",
   "name": "python",
   "nbconvert_exporter": "python",
   "pygments_lexer": "ipython3",
   "version": "3.7.7"
  }
 },
 "nbformat": 4,
 "nbformat_minor": 5
}
